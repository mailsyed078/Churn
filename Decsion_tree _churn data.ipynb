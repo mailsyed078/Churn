{
 "cells": [
  {
   "cell_type": "markdown",
   "id": "a2b6ef68",
   "metadata": {},
   "source": [
    "problem statemnent: what people will churn ie, reneiw or not"
   ]
  },
  {
   "cell_type": "code",
   "execution_count": null,
   "id": "f0ba83d6",
   "metadata": {},
   "outputs": [],
   "source": [
    "import numpy as np\n",
    "import pandas as pd\n",
    "\n",
    "import matplotlib.pyplot as plt\n",
    "%matplotlib inline\n",
    "import seaborn as sns\n",
    "\n",
    "\n",
    "from sklearn.preprocessing import LabelEncoder\n",
    "from sklearn.preprocessing import StandardScaler, MinMaxScaler, RobustScaler\n",
    "\n",
    "from sklearn.model_selection import train_test_split\n",
    "from sklearn.linear_model import LogisticRegression\n",
    "from sklearn.metrics import classification_report\n",
    "from sklearn.metrics import plot_roc_curve\n",
    "\n",
    "from sklearn.tree import DecisionTreeClassifier\n"
   ]
  },
  {
   "cell_type": "code",
   "execution_count": null,
   "id": "2e3e530f",
   "metadata": {},
   "outputs": [],
   "source": [
    "churn = pd.read_csv('churn.csv')\n",
    "churn"
   ]
  },
  {
   "cell_type": "code",
   "execution_count": null,
   "id": "63ee9c35",
   "metadata": {},
   "outputs": [],
   "source": [
    "churn.head(5)"
   ]
  },
  {
   "cell_type": "code",
   "execution_count": null,
   "id": "fdf83fc9",
   "metadata": {},
   "outputs": [],
   "source": [
    "churn.shape"
   ]
  },
  {
   "cell_type": "code",
   "execution_count": null,
   "id": "e6cc30ee",
   "metadata": {},
   "outputs": [],
   "source": [
    "churn.describe()"
   ]
  },
  {
   "cell_type": "code",
   "execution_count": null,
   "id": "71b3b739",
   "metadata": {},
   "outputs": [],
   "source": [
    "## In this data \"churn\" will be considered as target and remaining cols apart from \"customer_id\" will be considered as \n",
    "## features to predict that customer will renew the policy or not. That means it is a supervided classifictaion \n",
    "## problem and it can be solved by decision tree or any linear based model like logistic regression model...\n",
    "churn.columns"
   ]
  },
  {
   "cell_type": "markdown",
   "id": "3f64227f",
   "metadata": {},
   "source": [
    "## EDA"
   ]
  },
  {
   "cell_type": "code",
   "execution_count": null,
   "id": "a9c88fa7",
   "metadata": {},
   "outputs": [],
   "source": [
    "churn.dtypes"
   ]
  },
  {
   "cell_type": "code",
   "execution_count": null,
   "id": "3adfb0cc",
   "metadata": {},
   "outputs": [],
   "source": [
    "## convert the object features into numeric features:\n",
    "churn.TotalCharges = pd.to_numeric(churn.TotalCharges, errors = 'coerce')"
   ]
  },
  {
   "cell_type": "code",
   "execution_count": null,
   "id": "89959c80",
   "metadata": {
    "scrolled": true
   },
   "outputs": [],
   "source": [
    "## after importing the data we have to some EDA like missin value check and data standarization :\n",
    "\n",
    "churn.info(null_counts = True)"
   ]
  },
  {
   "cell_type": "code",
   "execution_count": null,
   "id": "5d3680e8",
   "metadata": {},
   "outputs": [],
   "source": [
    "## to handle missing value we can use simple imputer to impute mising values\n",
    "## by mean. median..\n",
    "\n",
    "from sklearn.impute import SimpleImputer\n"
   ]
  },
  {
   "cell_type": "code",
   "execution_count": null,
   "id": "a9c3a57d",
   "metadata": {},
   "outputs": [],
   "source": [
    "churn['Churn'].value_counts()"
   ]
  },
  {
   "cell_type": "code",
   "execution_count": null,
   "id": "6eada2bb",
   "metadata": {},
   "outputs": [],
   "source": [
    "## how to check payment distribution..\n",
    "print(churn['PaymentMethod'].unique())\n",
    "print(churn['SeniorCitizen'].unique())\n",
    "pd.crosstab(churn['SeniorCitizen'],churn['PaymentMethod'])"
   ]
  },
  {
   "cell_type": "code",
   "execution_count": null,
   "id": "b265f7a9",
   "metadata": {},
   "outputs": [],
   "source": [
    "churn.columns"
   ]
  },
  {
   "cell_type": "code",
   "execution_count": null,
   "id": "c956f006",
   "metadata": {},
   "outputs": [],
   "source": [
    "## what other the various inference we can draw :\n",
    "\n",
    "_,ax = plt.subplots(1,2,figsize =(10,10))\n",
    "sns.scatterplot(x = \"MonthlyCharges\", y =\"tenure\",hue = \"Churn\", data = churn,ax = ax[0])\n",
    "sns.scatterplot(x = \"TotalCharges\", y =\"tenure\",hue = \"Churn\", data = churn, ax = ax[1])"
   ]
  },
  {
   "cell_type": "code",
   "execution_count": null,
   "id": "1d44808e",
   "metadata": {},
   "outputs": [],
   "source": [
    "## let assume churn no means they will renew:\n",
    "## churn yes means they will not renew :"
   ]
  },
  {
   "cell_type": "code",
   "execution_count": null,
   "id": "59065c55",
   "metadata": {},
   "outputs": [],
   "source": [
    "churn.columns"
   ]
  },
  {
   "cell_type": "code",
   "execution_count": null,
   "id": "c53192d1",
   "metadata": {},
   "outputs": [],
   "source": [
    "## gender, SeniorCitizen,Partner,Dependents\n",
    "\n",
    "sns.countplot(x = 'gender',hue = 'Churn',data = churn)"
   ]
  },
  {
   "cell_type": "code",
   "execution_count": null,
   "id": "c7e16734",
   "metadata": {},
   "outputs": [],
   "source": [
    "sns.countplot(x = 'SeniorCitizen',hue = 'Churn',data = churn)"
   ]
  },
  {
   "cell_type": "code",
   "execution_count": null,
   "id": "90eb3f9d",
   "metadata": {},
   "outputs": [],
   "source": [
    "sns.countplot(x = 'Partner',hue = 'Churn',data = churn)"
   ]
  },
  {
   "cell_type": "code",
   "execution_count": null,
   "id": "3da45e7d",
   "metadata": {},
   "outputs": [],
   "source": [
    "## Next step is to do label encoding on chracter variable:\n",
    "churn.columns"
   ]
  },
  {
   "cell_type": "code",
   "execution_count": null,
   "id": "d3303d80",
   "metadata": {},
   "outputs": [],
   "source": [
    "## i will divide my whole data into categorical and numeric features:\n",
    "## then i will do label encoding on categrical features:\n",
    "## i will concat both the dataset to achieve my main data which i will use for Model building:\n",
    "\n",
    "num = churn.select_dtypes(include = np.number)\n",
    "obj = churn.select_dtypes(include = np.object)\n",
    "\n",
    "\n",
    "from sklearn.preprocessing import LabelEncoder\n",
    "le = LabelEncoder()\n",
    "\n",
    "obj2 = obj.apply(le.fit_transform)\n",
    "obj2.head(2)"
   ]
  },
  {
   "cell_type": "code",
   "execution_count": null,
   "id": "cf890e5b",
   "metadata": {},
   "outputs": [],
   "source": [
    "churndf = pd.concat([num,obj2],axis =1)\n",
    "print(churn.shape)\n",
    "churndf.head(2)\n",
    "print(churndf.shape)"
   ]
  },
  {
   "cell_type": "code",
   "execution_count": null,
   "id": "0c630ea2",
   "metadata": {},
   "outputs": [],
   "source": [
    "churndf.columns"
   ]
  },
  {
   "cell_type": "code",
   "execution_count": null,
   "id": "dbc6befb",
   "metadata": {},
   "outputs": [],
   "source": [
    "## start modeling part:\n",
    "y = churndf['Churn']\n",
    "x = churndf.drop(['Churn','customerID','TotalCharges'],axis =1)"
   ]
  },
  {
   "cell_type": "code",
   "execution_count": null,
   "id": "ccb8afc8",
   "metadata": {},
   "outputs": [],
   "source": [
    "x"
   ]
  },
  {
   "cell_type": "code",
   "execution_count": null,
   "id": "f3d99dbd",
   "metadata": {},
   "outputs": [],
   "source": [
    "y"
   ]
  },
  {
   "cell_type": "code",
   "execution_count": null,
   "id": "59b11e2e",
   "metadata": {},
   "outputs": [],
   "source": [
    "## divide the data into train and test dataset:\n",
    "\n",
    "## i will buld my model in x_train and y_train and will validate my model via confusion matrix on x_test and y_test\n",
    "x_train,x_test,y_train,y_test = train_test_split(x,y,test_size = 0.20)\n",
    "print(x_train.shape)\n",
    "print(x_test.shape)"
   ]
  },
  {
   "cell_type": "code",
   "execution_count": null,
   "id": "e5fed023",
   "metadata": {},
   "outputs": [],
   "source": [
    "from sklearn.tree import DecisionTreeClassifier\n",
    "tree = DecisionTreeClassifier()\n",
    "\n",
    "treemodel = tree.fit(x_train,y_train)\n",
    "treemodel.score(x_train,y_train)"
   ]
  },
  {
   "cell_type": "code",
   "execution_count": null,
   "id": "33d2a3f5",
   "metadata": {},
   "outputs": [],
   "source": [
    "## validate the model on test dataset:\n",
    "testmodel =  treemodel.score(x_test,y_test)\n",
    "print(testmodel)"
   ]
  },
  {
   "cell_type": "code",
   "execution_count": null,
   "id": "32db6178",
   "metadata": {},
   "outputs": [],
   "source": [
    "## how to generate confusion matrix on test dataset:\n",
    "\n",
    "test_predict =treemodel.predict(x_test)\n",
    "print(classification_report(y_test,test_predict))"
   ]
  },
  {
   "cell_type": "code",
   "execution_count": null,
   "id": "264ac4d8",
   "metadata": {},
   "outputs": [],
   "source": [
    "plot_roc_curve(treemodel,x_test,y_test)"
   ]
  },
  {
   "cell_type": "code",
   "execution_count": null,
   "id": "f37e376f",
   "metadata": {},
   "outputs": [],
   "source": [
    "## AUC is 0.67 that means model has not predicted well in my test dataset"
   ]
  },
  {
   "cell_type": "code",
   "execution_count": null,
   "id": "1bfffab0",
   "metadata": {},
   "outputs": [],
   "source": [
    "## we will compare this model with logistic regresion:"
   ]
  },
  {
   "cell_type": "code",
   "execution_count": null,
   "id": "b39344a0",
   "metadata": {},
   "outputs": [],
   "source": [
    "## how to check the tree:\n",
    "from sklearn.tree import plot_tree\n",
    "plt.figure(figsize = (15,15))\n",
    "plot_tree(treemodel,max_depth =2,filled = True)"
   ]
  },
  {
   "cell_type": "code",
   "execution_count": null,
   "id": "7f022b8b",
   "metadata": {},
   "outputs": [],
   "source": [
    "from sklearn.tree import export_text\n",
    "r = export_text(treemodel,feature_names=(list(x_train.columns)))\n",
    "print(r)"
   ]
  }
 ],
 "metadata": {
  "kernelspec": {
   "display_name": "Python 3 (ipykernel)",
   "language": "python",
   "name": "python3"
  },
  "language_info": {
   "codemirror_mode": {
    "name": "ipython",
    "version": 3
   },
   "file_extension": ".py",
   "mimetype": "text/x-python",
   "name": "python",
   "nbconvert_exporter": "python",
   "pygments_lexer": "ipython3",
   "version": "3.9.12"
  }
 },
 "nbformat": 4,
 "nbformat_minor": 5
}
